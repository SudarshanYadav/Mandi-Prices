{
 "cells": [
  {
   "cell_type": "markdown",
   "metadata": {},
   "source": [
    "### Import Dependencies"
   ]
  },
  {
   "cell_type": "code",
   "execution_count": 1,
   "metadata": {},
   "outputs": [],
   "source": [
    "import numpy as np\n",
    "import pandas as pd\n",
    "import matplotlib.pyplot as plt\n",
    "import seaborn as sns\n",
    "\n",
    "%matplotlib notebook"
   ]
  },
  {
   "cell_type": "markdown",
   "metadata": {},
   "source": [
    "### Read the files"
   ]
  },
  {
   "cell_type": "code",
   "execution_count": 2,
   "metadata": {},
   "outputs": [],
   "source": [
    "msp_data = pd.read_csv(\"CMO_MSP_Mandi.csv\")\n",
    "monthly_data_cmo = pd.read_csv(\"Monthly_data_cmo.csv\")"
   ]
  },
  {
   "cell_type": "code",
   "execution_count": 3,
   "metadata": {},
   "outputs": [
    {
     "name": "stdout",
     "output_type": "stream",
     "text": [
      "         commodity  year          Type  msprice  msp_filter\n",
      "0   PADDY-UNHUSKED  2012  Kharif Crops   1250.0           1\n",
      "1  RICE(PADDY-HUS)  2012  Kharif Crops   1280.0           1\n",
      "2     Jowar_Hybrid  2012  Kharif Crops   1500.0           1\n",
      "3    SORGUM(JAWAR)  2012  Kharif Crops   1520.0           1\n",
      "4            BAJRI  2012  Kharif Crops   1175.0           1\n",
      "\n",
      "The shape of data frame is :  (155, 5)\n",
      "\n",
      "There are total 3 type of crops :  ['Kharif Crops' 'Rabi Crops' 'Other Crops']\n",
      "\n",
      "The data is for 5 years :  [2012 2013 2014 2015 2016]\n",
      "\n",
      "The are total 32 commodities :  \n",
      "                        commodity\n",
      "Copra (Ball)_Yellow             5\n",
      "SAFFLOWER                       5\n",
      "SPLIT BLACK GRAM                5\n",
      "RICE(PADDY-HUS)                 5\n",
      "Jowar_Hybrid                    5\n",
      "WHEAT(HUSKED)                   5\n",
      "Ragi_Maldandi                   5\n",
      "BARLI                           5\n",
      "SESAMUM                         5\n",
      "PADDY-UNHUSKED                  5\n",
      "COCONUT                         5\n",
      "SORGUM(JAWAR)                   5\n",
      "Gram_Yellow                     5\n",
      "Jute_Yellow                     5\n",
      "SOYABEAN                        5\n",
      "NIGER-SEED                      5\n",
      "MAIZE                           5\n",
      "WHEAT(UNHUSKED)                 5\n",
      "COTTON                          5\n",
      "SPILT GERRN GRAM                5\n",
      "Toria_Yellow                    5\n",
      "Soyabean_Black                  5\n",
      "MUSTARD                         5\n",
      "SUNFLOWER                       5\n",
      "BAJRI                           5\n",
      "Masur_Yellow                    5\n",
      "Copra (Milling)_Yellow          5\n",
      "PIGEON PEA (TUR)                5\n",
      "Cotton_Long Staple              5\n",
      "GR.NUT KERNELS                  5\n",
      "SUGAR-CANE                      4\n",
      "SUGARCANE                       1\n"
     ]
    }
   ],
   "source": [
    "### Undersanding MSP data\n",
    "print(msp_data.head())\n",
    "print()\n",
    "print(\"The shape of data frame is : \",msp_data.shape)\n",
    "print()\n",
    "print(\"There are total {0} type of crops : \".format(len(msp_data.Type.unique())),msp_data.Type.unique())\n",
    "print()\n",
    "print(\"The data is for {0} years : \".format(len(msp_data.year.unique())),msp_data.year.unique())\n",
    "print()\n",
    "print(\"The are total {0} commodities :  \".format(len(msp_data.commodity.unique())))\n",
    "print(pd.DataFrame(msp_data.commodity.value_counts()))\n"
   ]
  },
  {
   "cell_type": "code",
   "execution_count": 30,
   "metadata": {},
   "outputs": [
    {
     "name": "stdout",
     "output_type": "stream",
     "text": [
      "      commodity  year         Type  msprice  msp_filter\n",
      "30   SUGAR-CANE  2012  Other Crops    170.0           1\n",
      "61   SUGAR-CANE  2013  Other Crops    210.0           1\n",
      "92   SUGAR-CANE  2014  Other Crops    220.0           1\n",
      "123  SUGAR-CANE  2015  Other Crops    230.0           1\n",
      "154   SUGARCANE  2016  Other Crops    230.0           1\n"
     ]
    }
   ],
   "source": [
    "print(msp_data[(msp_data[\"commodity\"]==\"SUGAR-CANE\") | (msp_data[\"commodity\"]==\"SUGARCANE\") ])\n",
    "### We can see Sugarcane has been mispelled as Sugar-CANE and SUGARCANE\n",
    "msp_data_1 = msp_data.copy()\n",
    "msp_data_1.commodity = msp_data.commodity.replace(\"SUGAR-CANE\",\"SUGARCANE\")\n",
    "##msp_data_1.to_csv('CMO_MSP_Mandi.csv')"
   ]
  },
  {
   "cell_type": "code",
   "execution_count": 31,
   "metadata": {},
   "outputs": [],
   "source": [
    "## Lets convert all commodity names to lower case\n",
    "msp_data_2 = msp_data_1.copy()\n",
    "msp_data_2.commodity = msp_data_2.commodity.str.lower()\n",
    "#msp_data_2.to_csv('CMO_MSP_Mandi.csv')"
   ]
  },
  {
   "cell_type": "markdown",
   "metadata": {},
   "source": [
    " "
   ]
  },
  {
   "cell_type": "code",
   "execution_count": 6,
   "metadata": {},
   "outputs": [],
   "source": [
    "## Converting Commidity to lower case\n",
    "monthly_data_cmo_1 = monthly_data_cmo.copy()\n",
    "monthly_data_cmo_1.Commodity = monthly_data_cmo_1.Commodity.str.lower()\n",
    "monthly_data_cmo_1.Commodity = monthly_data_cmo_1.Commodity.replace({'maize(corn.)':'maize (corn.)',\n",
    "                                                                    'soybean':'soyabean',\n",
    "                                                                    'kardai' : 'safflower',\n",
    "                                                                    'sarsav' : 'mustard',\n",
    "                                                                    'nachani' : 'ragi_maldandi'})\n",
    "\n"
   ]
  },
  {
   "cell_type": "code",
   "execution_count": 7,
   "metadata": {},
   "outputs": [
    {
     "data": {
      "text/html": [
       "<div>\n",
       "<style scoped>\n",
       "    .dataframe tbody tr th:only-of-type {\n",
       "        vertical-align: middle;\n",
       "    }\n",
       "\n",
       "    .dataframe tbody tr th {\n",
       "        vertical-align: top;\n",
       "    }\n",
       "\n",
       "    .dataframe thead th {\n",
       "        text-align: right;\n",
       "    }\n",
       "</style>\n",
       "<table border=\"1\" class=\"dataframe\">\n",
       "  <thead>\n",
       "    <tr style=\"text-align: right;\">\n",
       "      <th></th>\n",
       "      <th>state_name</th>\n",
       "      <th>district_name</th>\n",
       "      <th>APMC</th>\n",
       "      <th>Commodity</th>\n",
       "      <th>Year</th>\n",
       "      <th>Month</th>\n",
       "      <th>date</th>\n",
       "      <th>arrivals_in_qtl</th>\n",
       "      <th>min_price</th>\n",
       "      <th>max_price</th>\n",
       "      <th>modal_price</th>\n",
       "    </tr>\n",
       "  </thead>\n",
       "  <tbody>\n",
       "    <tr>\n",
       "      <th>0</th>\n",
       "      <td>Maharashtra</td>\n",
       "      <td>Ahmadnagar</td>\n",
       "      <td>Ahmednagar</td>\n",
       "      <td>bajri</td>\n",
       "      <td>2014</td>\n",
       "      <td>November</td>\n",
       "      <td>2014-11</td>\n",
       "      <td>395</td>\n",
       "      <td>1507</td>\n",
       "      <td>1750</td>\n",
       "      <td>1629.0</td>\n",
       "    </tr>\n",
       "    <tr>\n",
       "      <th>1</th>\n",
       "      <td>Maharashtra</td>\n",
       "      <td>Ahmadnagar</td>\n",
       "      <td>Ahmednagar</td>\n",
       "      <td>bajri</td>\n",
       "      <td>2014</td>\n",
       "      <td>September</td>\n",
       "      <td>2014-09</td>\n",
       "      <td>24</td>\n",
       "      <td>1400</td>\n",
       "      <td>1750</td>\n",
       "      <td>1575.0</td>\n",
       "    </tr>\n",
       "    <tr>\n",
       "      <th>2</th>\n",
       "      <td>Maharashtra</td>\n",
       "      <td>Ahmadnagar</td>\n",
       "      <td>Ahmednagar</td>\n",
       "      <td>bajri</td>\n",
       "      <td>2015</td>\n",
       "      <td>April</td>\n",
       "      <td>2015-04</td>\n",
       "      <td>79</td>\n",
       "      <td>1406</td>\n",
       "      <td>1538</td>\n",
       "      <td>1463.0</td>\n",
       "    </tr>\n",
       "    <tr>\n",
       "      <th>3</th>\n",
       "      <td>Maharashtra</td>\n",
       "      <td>Ahmadnagar</td>\n",
       "      <td>Ahmednagar</td>\n",
       "      <td>bajri</td>\n",
       "      <td>2015</td>\n",
       "      <td>August</td>\n",
       "      <td>2015-08</td>\n",
       "      <td>24</td>\n",
       "      <td>1615</td>\n",
       "      <td>1615</td>\n",
       "      <td>1615.0</td>\n",
       "    </tr>\n",
       "    <tr>\n",
       "      <th>4</th>\n",
       "      <td>Maharashtra</td>\n",
       "      <td>Ahmadnagar</td>\n",
       "      <td>Ahmednagar</td>\n",
       "      <td>bajri</td>\n",
       "      <td>2015</td>\n",
       "      <td>December</td>\n",
       "      <td>2015-12</td>\n",
       "      <td>258</td>\n",
       "      <td>1616</td>\n",
       "      <td>1797</td>\n",
       "      <td>1716.0</td>\n",
       "    </tr>\n",
       "  </tbody>\n",
       "</table>\n",
       "</div>"
      ],
      "text/plain": [
       "    state_name district_name        APMC Commodity  Year      Month     date  \\\n",
       "0  Maharashtra    Ahmadnagar  Ahmednagar     bajri  2014   November  2014-11   \n",
       "1  Maharashtra    Ahmadnagar  Ahmednagar     bajri  2014  September  2014-09   \n",
       "2  Maharashtra    Ahmadnagar  Ahmednagar     bajri  2015      April  2015-04   \n",
       "3  Maharashtra    Ahmadnagar  Ahmednagar     bajri  2015     August  2015-08   \n",
       "4  Maharashtra    Ahmadnagar  Ahmednagar     bajri  2015   December  2015-12   \n",
       "\n",
       "   arrivals_in_qtl  min_price  max_price  modal_price  \n",
       "0              395       1507       1750       1629.0  \n",
       "1               24       1400       1750       1575.0  \n",
       "2               79       1406       1538       1463.0  \n",
       "3               24       1615       1615       1615.0  \n",
       "4              258       1616       1797       1716.0  "
      ]
     },
     "execution_count": 7,
     "metadata": {},
     "output_type": "execute_result"
    }
   ],
   "source": [
    "## We merge the entries for same APMC and Commodity for a same date\n",
    "### The resason for this anomaly is not yet clear, But i assume this is an error in data collection\n",
    "monthly_data_cmo_2 = monthly_data_cmo_1.groupby(['state_name','district_name','APMC','Commodity','Year','Month','date'])\\\n",
    "    .agg({\n",
    "    'arrivals_in_qtl' : 'sum',\n",
    "    'min_price' : 'min',\n",
    "    'max_price' : 'max',\n",
    "    'modal_price' : 'mean'\n",
    "}).reset_index()\n",
    "monthly_data_cmo_2.head()"
   ]
  },
  {
   "cell_type": "code",
   "execution_count": 8,
   "metadata": {},
   "outputs": [
    {
     "name": "stdout",
     "output_type": "stream",
     "text": [
      "    state_name district_name        APMC Commodity  Year      Month     date  \\\n",
      "0  Maharashtra    Ahmadnagar  Ahmednagar     bajri  2014   November  2014-11   \n",
      "1  Maharashtra    Ahmadnagar  Ahmednagar     bajri  2014  September  2014-09   \n",
      "\n",
      "   arrivals_in_qtl  min_price  max_price  modal_price  \n",
      "0              395       1507       1750       1629.0  \n",
      "1               24       1400       1750       1575.0  \n",
      "\n",
      "The shape of data frame is :  (62387, 11)\n",
      "\n",
      "There are total 33 Districts  \n",
      "\n",
      "There are total 349 APMC  \n",
      "\n",
      "There are total 201 Commodities  \n",
      "\n"
     ]
    }
   ],
   "source": [
    "### understanding monthly mandi price\n",
    "print(monthly_data_cmo_2.head(2))\n",
    "print()\n",
    "print(\"The shape of data frame is : \",monthly_data_cmo_2.shape)\n",
    "print()\n",
    "print(\"There are total {0} Districts  \".format(len(monthly_data_cmo_2.district_name.unique())))\n",
    "print()\n",
    "print(\"There are total {0} APMC  \".format(len(monthly_data_cmo_2.APMC.unique())))\n",
    "print()\n",
    "print(\"There are total {0} Commodities  \".format(len(monthly_data_cmo_2.Commodity.unique())))\n",
    "print()\n"
   ]
  },
  {
   "cell_type": "markdown",
   "metadata": {},
   "source": [
    "### Adjust Prices For Inflation"
   ]
  },
  {
   "cell_type": "code",
   "execution_count": 9,
   "metadata": {},
   "outputs": [
    {
     "data": {
      "text/html": [
       "<div>\n",
       "<style scoped>\n",
       "    .dataframe tbody tr th:only-of-type {\n",
       "        vertical-align: middle;\n",
       "    }\n",
       "\n",
       "    .dataframe tbody tr th {\n",
       "        vertical-align: top;\n",
       "    }\n",
       "\n",
       "    .dataframe thead th {\n",
       "        text-align: right;\n",
       "    }\n",
       "</style>\n",
       "<table border=\"1\" class=\"dataframe\">\n",
       "  <thead>\n",
       "    <tr style=\"text-align: right;\">\n",
       "      <th></th>\n",
       "      <th></th>\n",
       "      <th>General index</th>\n",
       "    </tr>\n",
       "    <tr>\n",
       "      <th>Year</th>\n",
       "      <th>Month</th>\n",
       "      <th></th>\n",
       "    </tr>\n",
       "  </thead>\n",
       "  <tbody>\n",
       "    <tr>\n",
       "      <th rowspan=\"5\" valign=\"top\">2013</th>\n",
       "      <th>January</th>\n",
       "      <td>105.1</td>\n",
       "    </tr>\n",
       "    <tr>\n",
       "      <th>February</th>\n",
       "      <td>105.8</td>\n",
       "    </tr>\n",
       "    <tr>\n",
       "      <th>March</th>\n",
       "      <td>106.0</td>\n",
       "    </tr>\n",
       "    <tr>\n",
       "      <th>April</th>\n",
       "      <td>106.4</td>\n",
       "    </tr>\n",
       "    <tr>\n",
       "      <th>May</th>\n",
       "      <td>107.2</td>\n",
       "    </tr>\n",
       "  </tbody>\n",
       "</table>\n",
       "</div>"
      ],
      "text/plain": [
       "               General index\n",
       "Year Month                  \n",
       "2013 January           105.1\n",
       "     February          105.8\n",
       "     March             106.0\n",
       "     April             106.4\n",
       "     May               107.2"
      ]
     },
     "execution_count": 9,
     "metadata": {},
     "output_type": "execute_result"
    }
   ],
   "source": [
    "## Read Consumer Index File\n",
    "cpi_data = pd.read_csv('All_India_Index_April-2018.csv')\n",
    "columns_to_keep = ['Sector','Year','Month','General index']\n",
    "cpi_data = cpi_data[columns_to_keep]\n",
    "cpi_data = cpi_data[cpi_data['Sector']=='Rural']\n",
    "cpi_data.drop(columns='Sector',inplace=True)\n",
    "cpi_data.set_index(['Year','Month'],inplace=True)\n",
    "\n",
    "cpi_data.head()"
   ]
  },
  {
   "cell_type": "code",
   "execution_count": 10,
   "metadata": {},
   "outputs": [],
   "source": [
    "min_price_adjusted = []\n",
    "max_price_adjusted = []\n",
    "modal_price_adjusted = []\n",
    "\n",
    "for index,row in monthly_data_cmo_2.iterrows():\n",
    "    \n",
    "    year = row['Year']\n",
    "    month = row['Month']\n",
    "    index = cpi_data.loc[(year,month),'General index']\n",
    "    min_price_adjusted.append(row['min_price']*index/100)\n",
    "    max_price_adjusted.append(row['max_price']*index/100)\n",
    "    modal_price_adjusted.append(row['modal_price']*index/100)\n",
    "    \n",
    "monthly_data_cmo_3 = monthly_data_cmo_2.copy()\n",
    "monthly_data_cmo_3['min_price_adjust'] = min_price_adjusted\n",
    "monthly_data_cmo_3['max_price_adjust'] = max_price_adjusted\n",
    "monthly_data_cmo_3['modal_price_normalised'] = modal_price_adjusted\n",
    "    \n"
   ]
  },
  {
   "cell_type": "markdown",
   "metadata": {},
   "source": [
    "## Filtering Outliers"
   ]
  },
  {
   "cell_type": "code",
   "execution_count": 11,
   "metadata": {},
   "outputs": [],
   "source": [
    "monthly_data_cmo_4 = monthly_data_cmo_3\\\n",
    "    .assign(\n",
    "    q1_apmc_date_comm=monthly_data_cmo_3.groupby(['Commodity','date']).modal_price_normalised.transform(np.percentile,q=25),\n",
    "    q3_apmc_date_comm=monthly_data_cmo_3.groupby(['Commodity','date']).modal_price_normalised.transform(np.percentile,q=75)\n",
    ")\n",
    "\n",
    "outliers = []\n",
    "for index,row in monthly_data_cmo_4.iterrows():\n",
    "    modal_price = row['modal_price_normalised']\n",
    "    q1 = row['q1_apmc_date_comm']\n",
    "    q3 = row['q3_apmc_date_comm']\n",
    "    iqr = q3-q1\n",
    "    if((modal_price > q3 + 1.5 * iqr) or (modal_price < q1 - 1.5 * iqr) ):\n",
    "        outliers.append(True)\n",
    "    else:\n",
    "        outliers.append(False)\n",
    "\n",
    "        \n",
    "monthly_data_cmo_4['outlier'] = outliers"
   ]
  },
  {
   "cell_type": "markdown",
   "metadata": {},
   "source": [
    "### According to this we have 5 % outliers\n",
    "#### We can closely examine these values and further reduce this number\n",
    "##### For now we remove all the outlier values"
   ]
  },
  {
   "cell_type": "code",
   "execution_count": 12,
   "metadata": {},
   "outputs": [],
   "source": [
    "monthly_data_cmo_5 = monthly_data_cmo_4[monthly_data_cmo_4.outlier==False]"
   ]
  },
  {
   "cell_type": "markdown",
   "metadata": {},
   "source": [
    "#### Testing out assumptions about the data"
   ]
  },
  {
   "cell_type": "code",
   "execution_count": 13,
   "metadata": {},
   "outputs": [
    {
     "data": {
      "text/plain": [
       "Pune          5866\n",
       "Ahmadnagar    4458\n",
       "Nagpur        4243\n",
       "Solapur       4130\n",
       "Nasik         3495\n",
       "Satara        2632\n",
       "Buldhana      2612\n",
       "Amaravathi    2506\n",
       "Jalgaon       2465\n",
       "Aurangabad    2244\n",
       "Beed          1860\n",
       "Osmanabad     1676\n",
       "Thane         1583\n",
       "Kolhapur      1557\n",
       "Mumbai        1553\n",
       "Jalna         1456\n",
       "Latur         1372\n",
       "Yewatmal      1371\n",
       "Dhule         1266\n",
       "Parbhani      1246\n",
       "Chandrapur    1163\n",
       "Akola         1056\n",
       "Sangli        1031\n",
       "Nanded        1018\n",
       "Wasim          949\n",
       "Nandurbar      935\n",
       "Hingoli        752\n",
       "Wardha         620\n",
       "Raigad         587\n",
       "Bhandara       519\n",
       "Ratnagiri      399\n",
       "Gadchiroli     343\n",
       "Gondiya        125\n",
       "Name: district_name, dtype: int64"
      ]
     },
     "execution_count": 13,
     "metadata": {},
     "output_type": "execute_result"
    }
   ],
   "source": [
    "## Assumption is there are equal mandis in all Districts\n",
    "monthly_data_cmo_5.district_name.value_counts()"
   ]
  },
  {
   "cell_type": "code",
   "execution_count": 14,
   "metadata": {},
   "outputs": [
    {
     "name": "stderr",
     "output_type": "stream",
     "text": [
      "C:\\Users\\Sudarshan\\Anaconda3\\lib\\site-packages\\scipy\\stats\\stats.py:1713: FutureWarning: Using a non-tuple sequence for multidimensional indexing is deprecated; use `arr[tuple(seq)]` instead of `arr[seq]`. In the future this will be interpreted as an array index, `arr[np.array(seq)]`, which will result either in an error or a different result.\n",
      "  return np.add.reduce(sorted[indexer] * weights, axis=axis) / sumval\n"
     ]
    },
    {
     "data": {
      "image/png": "[encoded data removed]",
      "text/plain": [
       "<Figure size 432x288 with 1 Axes>"
      ]
     },
     "metadata": {
      "needs_background": "light"
     },
     "output_type": "display_data"
    }
   ],
   "source": [
    "def count_unique(data):\n",
    "    return len(set(data))\n",
    "\n",
    "### All mandis have all the commodities \n",
    "mandi_commodity_count = pd.DataFrame(monthly_data_cmo_5.groupby('APMC').Commodity.unique())\n",
    "\n",
    "count = []\n",
    "for index,row in mandi_commodity_count.iterrows():\n",
    "    count.append(len(row['Commodity']))\n",
    "\n",
    "monthly_data_cmo_5 = monthly_data_cmo_5.assign(\n",
    "    mandi_size = pd.cut(\n",
    "        monthly_data_cmo_5.groupby('APMC').Commodity.transform(count_unique),labels=['small','medium','large'],bins=[-0.1,10,40,100] ))\n",
    "\n",
    "plt.figure()\n",
    "sns.distplot(count)\n",
    "plt.show()"
   ]
  },
  {
   "cell_type": "markdown",
   "metadata": {},
   "source": [
    "# We can see that this graph is positively skewed\n",
    "#### This shows that there are more small mandis as compared to large mandis"
   ]
  },
  {
   "cell_type": "code",
   "execution_count": 15,
   "metadata": {},
   "outputs": [
    {
     "data": {
      "image/png": "[encoded data removed]",
      "text/plain": [
       "<Figure size 432x288 with 1 Axes>"
      ]
     },
     "metadata": {
      "needs_background": "light"
     },
     "output_type": "display_data"
    }
   ],
   "source": [
    "## All Combination of mandi and commodities have same number of months data\n",
    "monthly_data_cmo_5 = monthly_data_cmo_5.assign(date_count = monthly_data_cmo_5.groupby(['APMC','mandi_size','Commodity']).date.transform('count'))\n",
    "\n",
    "plt.figure()\n",
    "ax = sns.boxenplot(data= monthly_data_cmo_5,x='mandi_size',y='date_count')\n",
    "ax.set_ylabel('Number Of Observation per Commodity')\n",
    "ax.set_xlabel('Mandi Size')\n",
    "plt.show()\n"
   ]
  },
  {
   "cell_type": "markdown",
   "metadata": {},
   "source": [
    "### For the purpose of this analysis i only select those APMC_Mandi which have atleast 20 observations"
   ]
  },
  {
   "cell_type": "code",
   "execution_count": null,
   "metadata": {},
   "outputs": [],
   "source": []
  },
  {
   "cell_type": "code",
   "execution_count": 16,
   "metadata": {},
   "outputs": [],
   "source": [
    "## Now We are left with only 122 Commodities\n",
    "monthly_data_cmo_6 = monthly_data_cmo_5[monthly_data_cmo_5['date_count']>=20].drop('mandi_size',axis=1)\n",
    "\n",
    "\n",
    "from datetime import datetime\n",
    "def convert_to_date(date_str):\n",
    "    return datetime.strptime(date_str,'%Y-%m').date()\n",
    "\n",
    "date_list = pd.date_range(start='2014-09-01',end='2016-11-01',freq='MS').date\n",
    "\n",
    "monthly_data_cmo_6.date = monthly_data_cmo_6.date.apply(convert_to_date)\n",
    "\n",
    "temp = monthly_data_cmo_6.set_index(['state_name','district_name','APMC','Commodity'])\n",
    "\n",
    "missing_dates_data = []\n",
    "\n",
    "date_com_mean = monthly_data_cmo_6.groupby(['date','Commodity']).mean()\n",
    "for index,row in temp.groupby(level=[0,1,2,3]):\n",
    "    dates = row['date'].values\n",
    "  \n",
    "    missing_dates = [date for date in date_list if date not in dates]\n",
    "\n",
    "    \n",
    "    for date in missing_dates:\n",
    "        if (date,index[3]) in date_com_mean.index:\n",
    "            missing_dates_data.append(index+(date.year,date.month,date)+tuple(date_com_mean.loc[(date,index[3])][1:]))\n",
    "            \n",
    "        else:\n",
    "            missing_dates_data.append(index+(date.year,date.month,date,np.nan,np.nan,np.nan,np.nan,np.nan,np.nan,np.nan,np.nan,np.nan,np.nan,np.nan))\n",
    "  \n",
    "        \n",
    "     \n",
    "\n",
    "monthly_data_cmo_7 = monthly_data_cmo_6.append(pd.DataFrame(data= missing_dates_data,columns=monthly_data_cmo_6.columns))\n",
    "monthly_data_cmo_7 = monthly_data_cmo_7.fillna(method='ffill')"
   ]
  },
  {
   "cell_type": "markdown",
   "metadata": {},
   "source": [
    "### Currently we have used ffill a more suitable way would be to use the average of the previous and the next month.\n",
    "#### But for now we leave it to the next iteration"
   ]
  },
  {
   "cell_type": "markdown",
   "metadata": {},
   "source": [
    "### Let us detect the seasonality type of each APMC-Comm"
   ]
  },
  {
   "cell_type": "markdown",
   "metadata": {},
   "source": [
    "The data provided has been collected for only two years, it is difficult to identify the seasonality type with visual inspection or statistical test.\n",
    "\n",
    "My approach was to try both additive and multiplicative methods, keep the one which has less autocorelation after deseasonalising.\n",
    "\n",
    "For Now, i have assumed that all seasonalities are additive in nature, and used Holt Winter's method for deseasonalizing the prices.\n",
    "\n",
    "Also we do not account for trend because it is very difficult to get general trend with just two years of data."
   ]
  },
  {
   "cell_type": "code",
   "execution_count": 17,
   "metadata": {},
   "outputs": [
    {
     "name": "stderr",
     "output_type": "stream",
     "text": [
      "C:\\Users\\Sudarshan\\Anaconda3\\lib\\site-packages\\ipykernel_launcher.py:11: SettingWithCopyWarning: \n",
      "A value is trying to be set on a copy of a slice from a DataFrame.\n",
      "Try using .loc[row_indexer,col_indexer] = value instead\n",
      "\n",
      "See the caveats in the documentation: http://pandas.pydata.org/pandas-docs/stable/indexing.html#indexing-view-versus-copy\n",
      "  # This is added back by InteractiveShellApp.init_path()\n"
     ]
    }
   ],
   "source": [
    "from seasonal import fit_seasons, adjust_seasons\n",
    "\n",
    "monthly_data_cmo_8 = monthly_data_cmo_7.sort_values(by=['district_name','APMC','Commodity','date'])\\\n",
    "    .set_index(['state_name','district_name','APMC','Commodity'])\n",
    "\n",
    "\n",
    "adjusted_modal_price = []\n",
    "\n",
    "for index,row in monthly_data_cmo_8.groupby(level=[0,1,2,3]):\n",
    "    row = row.reset_index()\n",
    "    temp = row[['date','modal_price_normalised']]\n",
    "    temp['date'] = pd.to_datetime(temp['date'])\n",
    "    temp  = temp.set_index('date')\n",
    "    seasons,trend = fit_seasons(temp.modal_price_normalised)\n",
    "   \n",
    "    \n",
    "    adjusted = temp.modal_price_normalised.values\n",
    "    \n",
    "    if seasons is not None:\n",
    "        adjusted = adjust_seasons(list(temp.modal_price_normalised.values),seasons=seasons) \n",
    "   \n",
    "    adjusted_modal_price = adjusted_modal_price+(adjusted.tolist())\n",
    "    \n",
    "monthly_data_cmo_9 = monthly_data_cmo_8.copy()\n",
    "monthly_data_cmo_9['adjusted_modal_price'] = adjusted_modal_price    \n"
   ]
  },
  {
   "cell_type": "code",
   "execution_count": null,
   "metadata": {},
   "outputs": [],
   "source": [
    "\n"
   ]
  },
  {
   "cell_type": "code",
   "execution_count": null,
   "metadata": {},
   "outputs": [],
   "source": [
    "\n"
   ]
  },
  {
   "cell_type": "code",
   "execution_count": 18,
   "metadata": {},
   "outputs": [],
   "source": [
    "def coeff_of_var(x):\n",
    "    if np.mean(x)==0:\n",
    "        return x\n",
    "    \n",
    "    return np.var(x) / np.mean(x)\n",
    "\n",
    "c_var_APMC_comm = []\n",
    "\n",
    "for index,row in monthly_data_cmo_9.groupby(level=[0,1,2,3]):\n",
    "    temp = list(index) + [coeff_of_var(row.modal_price_normalised)]\n",
    "    c_var_APMC_comm.append(temp)\n",
    "\n",
    "c_var_APMC_comm = pd.DataFrame(columns=['state_name','district_name','APMC','Commodity','c_var'],data=c_var_APMC_comm)\n",
    "c_var_APMC = c_var_APMC_comm.groupby('APMC').agg({'c_var':'mean'})\n",
    "temp = monthly_data_cmo_9.reset_index()\n",
    "c_var_comm = temp.groupby(['Commodity','date']).agg({'adjusted_modal_price' : coeff_of_var}).reset_index().groupby('Commodity').mean()\n",
    "c_var_comm.columns = ['c_var']\n",
    "\n",
    "c_var_average_comm = c_var_APMC_comm.groupby('Commodity').agg({'c_var':'mean'})\n",
    "\n",
    "def is_higVar(row):\n",
    "    if row[0] <=q1:\n",
    "        return -1\n",
    "    else:\n",
    "        if (row[0] >=q3):\n",
    "            return 1\n",
    "        else:\n",
    "            return 0\n",
    "q1,q3 = c_var_APMC.c_var.quantile(q=[0.25,0.75])\n",
    "c_var_APMC['is_HighVarAPMC'] = c_var_APMC.c_var >q3\n",
    "c_var_APMC['is_LowVarAPMC'] = c_var_APMC.c_var <q1\n",
    "\n",
    "\n",
    "q1,q3 = c_var_comm.c_var.quantile(q=[0.25,0.75])\n",
    "c_var_comm['is_HighVarComm'] = c_var_comm.c_var >q3\n",
    "c_var_comm['is_LowVarComm'] = c_var_comm.c_var <q1\n",
    "\n",
    "q1,q3 = c_var_APMC_comm.c_var.quantile(q=[0.25,0.75])\n",
    "c_var_APMC_comm['is_HighVarAPMCComm'] = c_var_APMC_comm.c_var >q3\n",
    "c_var_APMC_comm['is_LowVarAPMCComm'] = c_var_APMC_comm.c_var <q1\n",
    "\n",
    "monthly_data_cmo_10 = monthly_data_cmo_9.reset_index().set_index(['APMC','Commodity']).copy()\\\n",
    ".join(c_var_APMC_comm.set_index(['APMC','Commodity'])[['is_HighVarAPMCComm','is_LowVarAPMCComm']],on=['APMC','Commodity'])\\\n",
    ".reset_index()\\\n",
    ".join(c_var_APMC[['is_HighVarAPMC','is_LowVarAPMC']],on=['APMC'])\\\n",
    ".set_index('Commodity')\\\n",
    ".join(c_var_comm[['is_HighVarComm','is_LowVarComm']])"
   ]
  },
  {
   "cell_type": "code",
   "execution_count": 19,
   "metadata": {},
   "outputs": [
    {
     "data": {
      "image/png": "[encoded data removed]",
      "text/plain": [
       "<Figure size 864x576 with 3 Axes>"
      ]
     },
     "metadata": {
      "needs_background": "light"
     },
     "output_type": "display_data"
    }
   ],
   "source": [
    "fig,(ax1,ax2,ax3) = plt.subplots(nrows=1,ncols=3,figsize=(12,8))\n",
    "sns.boxenplot(c_var_APMC.c_var,ax=ax1)\n",
    "ax1.set_title('Coeff. of Var of APMC')\n",
    "ax1.spines['top'].set_visible(False)\n",
    "ax1.spines['right'].set_visible(False)\n",
    "ax1.spines['left'].set_visible(False)\n",
    "\n",
    "\n",
    "sns.boxenplot(c_var_comm.c_var,ax=ax2)\n",
    "ax2.spines['top'].set_visible(False)\n",
    "ax2.spines['right'].set_visible(False)\n",
    "ax2.spines['left'].set_visible(False)\n",
    "ax2.set_title('Coeff. of Var of Comm.')\n",
    "\n",
    "\n",
    "sns.boxenplot(c_var_APMC_comm.c_var,ax=ax3)\n",
    "ax3.set_title('Coeff. of Var of Comm. in APMC')\n",
    "ax3.spines['top'].set_visible(False)\n",
    "ax3.spines['right'].set_visible(False)\n",
    "ax3.spines['left'].set_visible(False)\n",
    "plt.show()"
   ]
  },
  {
   "cell_type": "code",
   "execution_count": 20,
   "metadata": {},
   "outputs": [
    {
     "data": {
      "image/png": "[encoded data removed]",
      "text/plain": [
       "<Figure size 432x288 with 1 Axes>"
      ]
     },
     "metadata": {
      "needs_background": "light"
     },
     "output_type": "display_data"
    }
   ],
   "source": [
    "## Custom Created Crop grouping\n",
    "main_comm_grouping = pd.read_csv('main_commodity.csv')\n",
    "main_comm_grouping.dropna(inplace=True,subset=['Commodity'])\n",
    "main_comm_grouping.MSP.fillna(inplace=True,value=False)\n",
    "c_var_average_comm_2 = c_var_average_comm.join(main_comm_grouping.set_index('Commodity') )\n",
    "plt.figure()\n",
    "sns.boxplot(data = c_var_average_comm_2[(c_var_average_comm_2['Crop Type - Season']=='Kharif Crops')|(c_var_average_comm_2['Crop Type - Season']=='Rabi Crops')]\n",
    "            ,y='c_var',x='Crop Type - Season',orient='v')\n",
    "plt.show()\n",
    "\n"
   ]
  },
  {
   "cell_type": "markdown",
   "metadata": {},
   "source": [
    "We can see that Rabi Crops show more variation then Kharif Crops."
   ]
  },
  {
   "cell_type": "code",
   "execution_count": 21,
   "metadata": {},
   "outputs": [
    {
     "data": {
      "image/png": "[encoded data removed]",
      "text/plain": [
       "<Figure size 432x288 with 1 Axes>"
      ]
     },
     "metadata": {
      "needs_background": "light"
     },
     "output_type": "display_data"
    }
   ],
   "source": [
    "plt.figure()\n",
    "sns.boxplot(data = c_var_average_comm_2[(c_var_average_comm_2['Crop Type - Season']=='Kharif Crops')|(c_var_average_comm_2['Crop Type - Season']=='Rabi Crops')]\n",
    "            ,y='c_var',x='MSP',orient='v')\n",
    "plt.show()"
   ]
  },
  {
   "cell_type": "markdown",
   "metadata": {},
   "source": [
    "We can clearly see that there is much less varition for crops for which we have the MSP declared. But this could be due the fact that there are very less commodities for which the MSP has been declared."
   ]
  },
  {
   "cell_type": "code",
   "execution_count": 22,
   "metadata": {},
   "outputs": [
    {
     "data": {
      "image/png": "[encoded data removed]",
      "text/plain": [
       "<Figure size 432x288 with 1 Axes>"
      ]
     },
     "metadata": {
      "needs_background": "light"
     },
     "output_type": "display_data"
    }
   ],
   "source": [
    "plt.figure()\n",
    "sns.boxplot(data=c_var_APMC.join(monthly_data_cmo_5[['APMC','mandi_size']].drop_duplicates().set_index('APMC'),\n",
    "               on='APMC'),x='mandi_size',y='c_var')\n",
    "plt.show()"
   ]
  },
  {
   "cell_type": "markdown",
   "metadata": {},
   "source": [
    "We can see that larger mandi show greater variation in price, but again we can attribute this to the fact thre are more crops in larger mandis."
   ]
  },
  {
   "cell_type": "code",
   "execution_count": 23,
   "metadata": {},
   "outputs": [],
   "source": [
    "cpi_data_2 = cpi_data.reset_index().groupby('Year').agg({'General index':'mean'})\n",
    "msp_data_3 = msp_data_2.sort_values(by=['commodity','year']).fillna(method='ffill')\n",
    "msp_adjusted = []\n",
    "for index,row in msp_data_3.iterrows():\n",
    " \n",
    "    year = row['year']\n",
    "    if year ==2012:\n",
    "        index =100\n",
    "    else:\n",
    "        index = cpi_data_2.loc[year,'General index']\n",
    "    msp_adjusted.append(row['msprice']*index/100)\n",
    "       \n",
    "msp_data_4 = msp_data_3.copy()\n",
    "msp_data_4['msp_normalised'] = msp_adjusted\n",
    "msp_data_4.commodity.replace({\n",
    "    'ragi_maldandi':'ragi'\n",
    "},inplace=True)\n",
    "\n",
    "msp_data_4.rename(columns={\n",
    "    'commodity':'Commodity',\n",
    "    'year':'Year'\n",
    "},inplace=True)\n",
    "monthly_data_cmo_10 = monthly_data_cmo_9.reset_index().set_index(['Commodity','Year'])\\\n",
    "    .join(msp_data_4.set_index(['Commodity','Year']))\n",
    "\n"
   ]
  },
  {
   "cell_type": "code",
   "execution_count": 24,
   "metadata": {},
   "outputs": [],
   "source": [
    "mean_error_adjusted_price = (np.abs(monthly_data_cmo_10.adjusted_modal_price -monthly_data_cmo_10.msp_normalised)/monthly_data_cmo_10.msp_normalised).dropna()\n",
    "mean_error_adjusted_price = mean_error_adjusted_price.groupby('Commodity').mean().sort_values(ascending=False)\n",
    "\n",
    "mean_error_normalised_price = (np.abs(monthly_data_cmo_10.modal_price_normalised -monthly_data_cmo_10.msp_normalised)/monthly_data_cmo_10.msp_normalised).dropna()\n",
    "mean_error_normalised_price = mean_error_normalised_price.groupby('Commodity').mean().sort_values(ascending=False)"
   ]
  },
  {
   "cell_type": "code",
   "execution_count": 25,
   "metadata": {},
   "outputs": [
    {
     "data": {
      "text/html": [
       "<div>\n",
       "<style scoped>\n",
       "    .dataframe tbody tr th:only-of-type {\n",
       "        vertical-align: middle;\n",
       "    }\n",
       "\n",
       "    .dataframe tbody tr th {\n",
       "        vertical-align: top;\n",
       "    }\n",
       "\n",
       "    .dataframe thead th {\n",
       "        text-align: right;\n",
       "    }\n",
       "</style>\n",
       "<table border=\"1\" class=\"dataframe\">\n",
       "  <thead>\n",
       "    <tr style=\"text-align: right;\">\n",
       "      <th></th>\n",
       "      <th>mean_error_normalised</th>\n",
       "      <th>mean_error_adjusted</th>\n",
       "    </tr>\n",
       "    <tr>\n",
       "      <th>Commodity</th>\n",
       "      <th></th>\n",
       "      <th></th>\n",
       "    </tr>\n",
       "  </thead>\n",
       "  <tbody>\n",
       "    <tr>\n",
       "      <th>split black gram</th>\n",
       "      <td>1.505285</td>\n",
       "      <td>1.517417</td>\n",
       "    </tr>\n",
       "    <tr>\n",
       "      <th>wheat(unhusked)</th>\n",
       "      <td>1.186459</td>\n",
       "      <td>1.183809</td>\n",
       "    </tr>\n",
       "    <tr>\n",
       "      <th>gr.nut kernels</th>\n",
       "      <td>0.995681</td>\n",
       "      <td>0.994552</td>\n",
       "    </tr>\n",
       "    <tr>\n",
       "      <th>rice(paddy-hus)</th>\n",
       "      <td>0.979718</td>\n",
       "      <td>0.981604</td>\n",
       "    </tr>\n",
       "    <tr>\n",
       "      <th>spilt gerrn gram</th>\n",
       "      <td>0.850982</td>\n",
       "      <td>0.847972</td>\n",
       "    </tr>\n",
       "    <tr>\n",
       "      <th>pigeon pea (tur)</th>\n",
       "      <td>0.516810</td>\n",
       "      <td>0.515998</td>\n",
       "    </tr>\n",
       "    <tr>\n",
       "      <th>sesamum</th>\n",
       "      <td>0.456097</td>\n",
       "      <td>0.443481</td>\n",
       "    </tr>\n",
       "    <tr>\n",
       "      <th>soyabean</th>\n",
       "      <td>0.276135</td>\n",
       "      <td>0.277538</td>\n",
       "    </tr>\n",
       "    <tr>\n",
       "      <th>paddy-unhusked</th>\n",
       "      <td>0.246863</td>\n",
       "      <td>0.239110</td>\n",
       "    </tr>\n",
       "    <tr>\n",
       "      <th>safflower</th>\n",
       "      <td>0.228987</td>\n",
       "      <td>0.228861</td>\n",
       "    </tr>\n",
       "    <tr>\n",
       "      <th>sunflower</th>\n",
       "      <td>0.190675</td>\n",
       "      <td>0.186621</td>\n",
       "    </tr>\n",
       "    <tr>\n",
       "      <th>coconut</th>\n",
       "      <td>0.165855</td>\n",
       "      <td>0.143274</td>\n",
       "    </tr>\n",
       "    <tr>\n",
       "      <th>bajri</th>\n",
       "      <td>0.164701</td>\n",
       "      <td>0.165115</td>\n",
       "    </tr>\n",
       "    <tr>\n",
       "      <th>sorgum(jawar)</th>\n",
       "      <td>0.150681</td>\n",
       "      <td>0.147474</td>\n",
       "    </tr>\n",
       "    <tr>\n",
       "      <th>cotton</th>\n",
       "      <td>0.131656</td>\n",
       "      <td>0.135613</td>\n",
       "    </tr>\n",
       "    <tr>\n",
       "      <th>wheat(husked)</th>\n",
       "      <td>0.112523</td>\n",
       "      <td>0.111478</td>\n",
       "    </tr>\n",
       "    <tr>\n",
       "      <th>maize</th>\n",
       "      <td>0.112304</td>\n",
       "      <td>0.106576</td>\n",
       "    </tr>\n",
       "    <tr>\n",
       "      <th>mustard</th>\n",
       "      <td>0.079319</td>\n",
       "      <td>0.075335</td>\n",
       "    </tr>\n",
       "  </tbody>\n",
       "</table>\n",
       "</div>"
      ],
      "text/plain": [
       "                  mean_error_normalised  mean_error_adjusted\n",
       "Commodity                                                   \n",
       "split black gram               1.505285             1.517417\n",
       "wheat(unhusked)                1.186459             1.183809\n",
       "gr.nut kernels                 0.995681             0.994552\n",
       "rice(paddy-hus)                0.979718             0.981604\n",
       "spilt gerrn gram               0.850982             0.847972\n",
       "pigeon pea (tur)               0.516810             0.515998\n",
       "sesamum                        0.456097             0.443481\n",
       "soyabean                       0.276135             0.277538\n",
       "paddy-unhusked                 0.246863             0.239110\n",
       "safflower                      0.228987             0.228861\n",
       "sunflower                      0.190675             0.186621\n",
       "coconut                        0.165855             0.143274\n",
       "bajri                          0.164701             0.165115\n",
       "sorgum(jawar)                  0.150681             0.147474\n",
       "cotton                         0.131656             0.135613\n",
       "wheat(husked)                  0.112523             0.111478\n",
       "maize                          0.112304             0.106576\n",
       "mustard                        0.079319             0.075335"
      ]
     },
     "execution_count": 25,
     "metadata": {},
     "output_type": "execute_result"
    }
   ],
   "source": [
    "mean_square_error =pd.DataFrame(mean_error_normalised_price).join(pd.DataFrame(mean_error_adjusted_price),lsuffix='normalised',rsuffix='adjusted')\n",
    "mean_square_error.columns = ['mean_error_normalised','mean_error_adjusted']\n",
    "mean_square_error"
   ]
  },
  {
   "cell_type": "code",
   "execution_count": 26,
   "metadata": {},
   "outputs": [
    {
     "name": "stderr",
     "output_type": "stream",
     "text": [
      "C:\\Users\\Sudarshan\\Anaconda3\\lib\\site-packages\\scipy\\stats\\stats.py:1713: FutureWarning: Using a non-tuple sequence for multidimensional indexing is deprecated; use `arr[tuple(seq)]` instead of `arr[seq]`. In the future this will be interpreted as an array index, `arr[np.array(seq)]`, which will result either in an error or a different result.\n",
      "  return np.add.reduce(sorted[indexer] * weights, axis=axis) / sumval\n"
     ]
    },
    {
     "data": {
      "image/png": "[encoded data removed]",
      "text/plain": [
       "<Figure size 432x288 with 1 Axes>"
      ]
     },
     "metadata": {
      "needs_background": "light"
     },
     "output_type": "display_data"
    }
   ],
   "source": [
    "monthly_data_cmo_11 = monthly_data_cmo_10.reset_index().copy()\n",
    "\n",
    "plt.figure()\n",
    "sns.lineplot(data=monthly_data_cmo_11[monthly_data_cmo_11['Commodity']=='split black gram'].sort_values(by='date'),\n",
    "            x='date',\n",
    "            y='modal_price',\n",
    "            label='Split Black Gram')\n",
    "sns.lineplot(data=monthly_data_cmo_11[monthly_data_cmo_11['Commodity']=='mustard'].sort_values(by='date'),\n",
    "            x='date',\n",
    "            y='modal_price',\n",
    "            label='Split Black Gram')\n",
    "plt.show()"
   ]
  },
  {
   "cell_type": "markdown",
   "metadata": {},
   "source": [
    "## Now we can compare the demand and supply for commodities"
   ]
  },
  {
   "cell_type": "code",
   "execution_count": null,
   "metadata": {},
   "outputs": [],
   "source": []
  },
  {
   "cell_type": "code",
   "execution_count": 27,
   "metadata": {},
   "outputs": [],
   "source": [
    "corelation = []\n",
    "for index,row in monthly_data_cmo_11.set_index(['APMC','Commodity'])[['arrivals_in_qtl','modal_price']].groupby(level=[0,1]):\n",
    "    corelation.append(list(index)+[row.corr().iloc[0,1]])\n",
    "\n",
    "corelation = pd.DataFrame(corelation)"
   ]
  },
  {
   "cell_type": "code",
   "execution_count": 28,
   "metadata": {},
   "outputs": [
    {
     "data": {
      "image/png": "[encoded data removed]",
      "text/plain": [
       "<Figure size 432x288 with 1 Axes>"
      ]
     },
     "metadata": {
      "needs_background": "light"
     },
     "output_type": "display_data"
    }
   ],
   "source": [
    "plt.figure()\n",
    "sns.boxplot(corelation.iloc[:,2],orient='v')\n",
    "plt.show()"
   ]
  },
  {
   "cell_type": "markdown",
   "metadata": {},
   "source": [
    "### We can see that for a majority of APMC and comm have negative corelation for demand and supply. \n",
    "Also some commodities| have positive corelation. This is a very interesting observation and can be stuided in detail."
   ]
  },
  {
   "cell_type": "code",
   "execution_count": null,
   "metadata": {},
   "outputs": [],
   "source": []
  },
  {
   "cell_type": "code",
   "execution_count": null,
   "metadata": {},
   "outputs": [],
   "source": []
  },
  {
   "cell_type": "code",
   "execution_count": null,
   "metadata": {},
   "outputs": [],
   "source": []
  },
  {
   "cell_type": "code",
   "execution_count": null,
   "metadata": {},
   "outputs": [],
   "source": []
  },
  {
   "cell_type": "code",
   "execution_count": null,
   "metadata": {},
   "outputs": [],
   "source": []
  },
  {
   "cell_type": "code",
   "execution_count": null,
   "metadata": {},
   "outputs": [],
   "source": []
  },
  {
   "cell_type": "code",
   "execution_count": null,
   "metadata": {},
   "outputs": [],
   "source": []
  },
  {
   "cell_type": "code",
   "execution_count": null,
   "metadata": {},
   "outputs": [],
   "source": []
  }
 ],
 "metadata": {
  "kernelspec": {
   "display_name": "Python 3",
   "language": "python",
   "name": "python3"
  },
  "language_info": {
   "codemirror_mode": {
    "name": "ipython",
    "version": 3
   },
   "file_extension": ".py",
   "mimetype": "text/x-python",
   "name": "python",
   "nbconvert_exporter": "python",
   "pygments_lexer": "ipython3",
   "version": "3.7.0"
  }
 },
 "nbformat": 4,
 "nbformat_minor": 2
}
